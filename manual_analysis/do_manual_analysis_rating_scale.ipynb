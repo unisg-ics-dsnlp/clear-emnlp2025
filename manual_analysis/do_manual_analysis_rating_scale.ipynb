{
 "cells": [
  {
   "cell_type": "markdown",
   "id": "c81690aaf83b3181",
   "metadata": {},
   "source": [
    "For the following arguments, please rate them individually on a scale of 1 (bad) to 5 (good).\n",
    "If there are parts of the text that are not part of the argument, such as a list of improvements, do not consider them in your rating.\n",
    "The ratings should be based on the following scale:\n",
    "- 5: Highly convincing, effective and well-structured argument.\n",
    "- 4: Overall convincing, with some weak points.\n",
    "- 3: Convincing, but uneven or with significant weaknesses.\n",
    "- 2: Limit convincing, lacks engagement.\n",
    "- 1: Not convincing, poorly structured or irrelevant.\n"
   ]
  },
  {
   "cell_type": "code",
   "id": "initial_id",
   "metadata": {},
   "source": [
    "import json\n",
    "\n",
    "with open('preference_manual_scale/texts_all.json', 'r') as f:\n",
    "    texts_all = json.load(f)"
   ],
   "outputs": [],
   "execution_count": null
  },
  {
   "cell_type": "code",
   "id": "942bb05e2e4d7da2",
   "metadata": {},
   "source": [
    "len(texts_all)"
   ],
   "outputs": [],
   "execution_count": null
  },
  {
   "cell_type": "code",
   "id": "42126ff9cdbad1a7",
   "metadata": {},
   "source": "ANNOTATOR_NAME = 'annotator2'",
   "outputs": [],
   "execution_count": null
  },
  {
   "cell_type": "code",
   "id": "2e9df8e30e5d6dc7",
   "metadata": {},
   "source": [
    "import os\n",
    "\n",
    "out_path = os.path.join('preference_manual_scale', 'annotations', ANNOTATOR_NAME)"
   ],
   "outputs": [],
   "execution_count": null
  },
  {
   "cell_type": "code",
   "id": "9f6fd316317f04fa",
   "metadata": {},
   "source": [
    "for source, topic_id, graph_id, text, text_type in texts_all:\n",
    "    topic_id = topic_id.replace('/', '__')\n",
    "    out_file_name = os.path.join(out_path, f'{source}_{topic_id}_{graph_id}_{text_type}.json')\n",
    "    if os.path.exists(out_file_name):\n",
    "        print(f\"File {out_file_name} already exists. Skipping.\")\n",
    "        continue\n",
    "    print(f'{source}, {topic_id}, {graph_id}\\n{text}\\n\\n---------------------------------------')\n",
    "    rating = input('> Rate the text: ')\n",
    "    rating = int(rating)\n",
    "    with open(out_file_name, 'w') as f:\n",
    "        json.dump({'source': source, 'topic_id': topic_id, 'graph_id': graph_id, 'text_type': text_type, 'text': text, 'rating': rating}, f)\n",
    "    print('\\n======================')\n"
   ],
   "outputs": [],
   "execution_count": null
  },
  {
   "cell_type": "code",
   "id": "bbe02c59f9bd2afa",
   "metadata": {},
   "source": [],
   "outputs": [],
   "execution_count": null
  }
 ],
 "metadata": {
  "kernelspec": {
   "display_name": "Python 3 (ipykernel)",
   "language": "python",
   "name": "python3"
  },
  "language_info": {
   "codemirror_mode": {
    "name": "ipython",
    "version": 3
   },
   "file_extension": ".py",
   "mimetype": "text/x-python",
   "name": "python",
   "nbconvert_exporter": "python",
   "pygments_lexer": "ipython3",
   "version": "3.12.10"
  }
 },
 "nbformat": 4,
 "nbformat_minor": 5
}
